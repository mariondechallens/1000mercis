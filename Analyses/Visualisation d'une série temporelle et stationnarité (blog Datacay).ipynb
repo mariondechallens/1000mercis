{
 "cells": [
  {
   "cell_type": "markdown",
   "metadata": {},
   "source": [
    "# Visualisation de la série temporelle des taux de conversion: corrélation, fonctions d'autocorrélation et QQ plot"
   ]
  },
  {
   "cell_type": "code",
   "execution_count": null,
   "metadata": {},
   "outputs": [],
   "source": [
    "# required modules\n",
    "import pandas as pd\n",
    "import numpy as np\n",
    "import matplotlib.pyplot as plt\n",
    "import statsmodels.tsa.api as smt\n",
    "import statsmodels.api as sm\n",
    "import seaborn as sns"
   ]
  },
  {
   "cell_type": "raw",
   "metadata": {},
   "source": [
    "On regarde la corrélation de la série temporelle des taux de conversion"
   ]
  },
  {
   "cell_type": "code",
   "execution_count": null,
   "metadata": {},
   "outputs": [],
   "source": [
    "def corr(data) :\n",
    "# build scatterplot\n",
    "    ncols = 3\n",
    "    nrows = 3\n",
    "    lags = 9\n",
    " \n",
    "    fig, axes = plt.subplots(ncols=ncols, nrows=nrows, figsize=(6 * ncols, 6 * nrows))\n",
    " \n",
    "    for ax, lag in zip(axes.flat, np.arange(1, lags + 1, 1)):\n",
    "        lag_str = 't-{}'.format(lag)\n",
    "        X = (pd.concat([data, data.shift(-lag)], axis=1, keys=['y']+[lag_str]).dropna())\n",
    "    \n",
    "    # plot data\n",
    "        X.plot(ax=ax, kind='scatter', y='y', x=lag_str);\n",
    "        corr = X.corr().as_matrix()[0][1]\n",
    "        ax.set_ylabel('Original');\n",
    "        ax.set_title('Lag: {} (corr={:.2f})'.format(lag_str, corr));\n",
    "        ax.set_aspect('equal');\n",
    "    \n",
    "        # top and right spine from plot\n",
    "        sns.despine();\n",
    " \n",
    "    fig.tight_layout()\n",
    "    plt.show()\n"
   ]
  },
  {
   "cell_type": "raw",
   "metadata": {},
   "source": [
    "On trace les fonctions d'autocorrélation, QQ plot et histogramme des taux de conversion"
   ]
  },
  {
   "cell_type": "code",
   "execution_count": null,
   "metadata": {},
   "outputs": [],
   "source": [
    "def ts_plot(y, lags=None, title=''):\n",
    "    '''\n",
    "    Calculate acf, pacf, histogram, and qq plot for a given time series\n",
    "    '''\n",
    "    # if time series is not a Series object, make it so\n",
    "    if not isinstance(y, pd.Series):\n",
    "        y = pd.Series(y)\n",
    "    \n",
    "    # initialize figure and axes\n",
    "    fig = plt.figure(figsize=(14, 12))\n",
    "    layout = (3, 2)\n",
    "    ts_ax = plt.subplot2grid(layout, (0, 0), colspan=2)\n",
    "    acf_ax = plt.subplot2grid(layout, (1, 0))\n",
    "    pacf_ax = plt.subplot2grid(layout, (1, 1))\n",
    "    qq_ax = plt.subplot2grid(layout, (2, 0))\n",
    "    hist_ax = plt.subplot2grid(layout, (2, 1))\n",
    "    \n",
    "    # time series plot\n",
    "    y.plot(ax=ts_ax)\n",
    "    plt.legend(loc='best')\n",
    "    ts_ax.set_title(title);\n",
    "    \n",
    "    # acf and pacf\n",
    "    smt.graphics.plot_acf(y, lags=lags, ax=acf_ax, alpha=0.5)\n",
    "    smt.graphics.plot_pacf(y, lags=lags, ax=pacf_ax, alpha=0.5) \n",
    "    \n",
    "    # qq plot\n",
    "    sm.qqplot(y, line='s', ax=qq_ax)\n",
    "    qq_ax.set_title('Normal QQ Plot')\n",
    "    \n",
    "    # hist plot\n",
    "    y.plot(ax=hist_ax, kind='hist', bins=25);\n",
    "    hist_ax.set_title('Histogram');\n",
    "    plt.tight_layout();\n",
    "    plt.show()\n",
    "    return"
   ]
  },
  {
   "cell_type": "markdown",
   "metadata": {},
   "source": [
    "# Visualisation des moyennes flottantes et effets journaliers du taux de conversion (saisonnalité)"
   ]
  },
  {
   "cell_type": "code",
   "execution_count": null,
   "metadata": {},
   "outputs": [],
   "source": [
    "# load required modules\n",
    "import pandas as pd\n",
    "import numpy as np\n",
    "import matplotlib.pyplot as plt\n",
    "import statsmodels.tsa "
   ]
  },
  {
   "cell_type": "raw",
   "metadata": {},
   "source": [
    " Moyennes flottantes:"
   ]
  },
  {
   "cell_type": "code",
   "execution_count": null,
   "metadata": {},
   "outputs": [],
   "source": [
    "# simple line plot\n",
    "def rolling_mean(y):\n",
    "    plt.plot(y)\n",
    "    plt.title('Taux de conversion', fontsize=24)\n",
    "    plt.ylabel('taux moyen journalier')\n",
    "    plt.xlabel('Date')\n",
    "    plt.show()\n",
    "\n",
    "    fig, axes = plt.subplots(2, 2, sharey=False, sharex=False);\n",
    "    fig.set_figwidth(14);\n",
    "    fig.set_figheight(8);"
   ]
  },
  {
   "cell_type": "code",
   "execution_count": null,
   "metadata": {},
   "outputs": [],
   "source": [
    "# push data to each ax\n",
    "#upper left\n",
    "    axes[0][0].plot(y.index, y, label='Original');\n",
    "    axes[0][0].plot(y.index, y.rolling(window=4).mean(), label='4-Months Rolling Mean', color='crimson');\n",
    "    axes[0][0].set_xlabel(\"Date\");\n",
    "    axes[0][0].set_ylabel(\"taux moyen journalier\");\n",
    "    axes[0][0].set_title(\"4-Months Moving Average\");\n",
    "    axes[0][0].legend(loc='best');\n",
    " \n",
    "# upper right\n",
    "    axes[0][1].plot(y.index, y, label='Original')\n",
    "    axes[0][1].plot(y.index, y.rolling(window=6).mean(), label='6-Months Rolling Mean', color='crimson');\n",
    "    axes[0][1].set_xlabel(\"Date\");\n",
    "    axes[0][1].set_ylabel(\"taux moyen journalier\");\n",
    "    axes[0][1].set_title(\"6-Months Moving Average\");\n",
    "    axes[0][1].legend(loc='best');\n",
    " \n",
    "# lower left\n",
    "    axes[1][0].plot(y.index, y, label='Original');\n",
    "    axes[1][0].plot(y.index, y.rolling(window=8).mean(), label='8-Months Rolling Mean', color='crimson');\n",
    "    axes[1][0].set_xlabel(\"Date\");\n",
    "    axes[1][0].set_ylabel(\"taux moyen journalier\");\n",
    "    axes[1][0].set_title(\"8-Months Moving Average\");\n",
    "    axes[1][0].legend(loc='best');\n",
    " \n",
    "# lower right\n",
    "    axes[1][1].plot(y.index, y, label='Original');\n",
    "    axes[1][1].plot(y.index, y.rolling(window=12).mean(), label='12-Months Rolling Mean', color='crimson');\n",
    "    axes[1][1].set_xlabel(\"Date\");\n",
    "    axes[1][1].set_ylabel(\"taux moyen journalier\");\n",
    "    axes[1][1].set_title(\"12-Months Moving Average\");\n",
    "    axes[1][1].legend(loc='best');\n",
    "    plt.tight_layout();"
   ]
  },
  {
   "cell_type": "code",
   "execution_count": null,
   "metadata": {},
   "outputs": [],
   "source": [
    "def plot_rolling_average(y, window=12):\n",
    "    '''\n",
    "    Plot rolling mean and rolling standard deviation for a given time series and window\n",
    "    '''\n",
    "    # calculate moving averages\n",
    "    rolling_mean = y.rolling(window=window).mean()\n",
    "    rolling_std = y.rolling(window=window).std()\n",
    " \n",
    "    # plot statistics\n",
    "    plt.plot(y, label='Original')\n",
    "    plt.plot(rolling_mean, color='crimson', label='Moving average mean')\n",
    "    plt.plot(rolling_std, color='darkslateblue', label='Moving average standard deviation')\n",
    "    plt.legend(loc='best')\n",
    "    plt.title('Rolling Mean & Standard Deviation')\n",
    "    plt.show(block=False)\n",
    "    return    "
   ]
  },
  {
   "cell_type": "raw",
   "metadata": {},
   "source": [
    "Effets journaliers:"
   ]
  },
  {
   "cell_type": "code",
   "execution_count": null,
   "metadata": {},
   "outputs": [],
   "source": [
    "def effet_journalier(df):\n",
    "    df['Day'] = df.index.day\n",
    "    df['Month'] = df.index.strftime('%b')\n",
    "    \n",
    "# reshape data pour plot\n",
    "    df_piv_line = df.pivot(index = 'Day', columns='Month', values='is_conv')\n",
    " \n",
    "# create line plot\n",
    "    df_piv_line.plot(colormap='jet')\n",
    "    plt.title('Seasonal Effect per Day', fontsize=24)\n",
    "    plt.ylabel('Taux moyen journalier')\n",
    "    plt.legend(loc='best', bbox_to_anchor=(1.0, 0.5))\n",
    "    plt.show()\n",
    "\n",
    "# reshape date pour boxplot\n",
    "    df_piv_box = df.pivot(index='Month', columns='Day', values='is_conv')\n",
    "\n",
    " \n",
    "# create a box plot\n",
    "    fig, ax = plt.subplots();\n",
    "    df_piv_box.plot(ax=ax, kind='box');\n",
    "    ax.set_title('Seasonal Effect per Day', fontsize=24);\n",
    "    ax.set_xlabel('Day');\n",
    "    ax.set_ylabel('Taux moyen journalier');\n",
    "    ax.xaxis.set_ticks_position('bottom');\n",
    "    fig.tight_layout();\n",
    "    plt.show()\n"
   ]
  },
  {
   "cell_type": "markdown",
   "metadata": {},
   "source": [
    "# Test de Dickey-Fuller (stationnarité de la série temporelle des taux de conversion) "
   ]
  },
  {
   "cell_type": "raw",
   "metadata": {},
   "source": [
    "Calcul de la statistique de test à comparer aux valeurs critiques"
   ]
  },
  {
   "cell_type": "code",
   "execution_count": null,
   "metadata": {},
   "outputs": [],
   "source": [
    "def adf_test(y):\n",
    "    # perform Augmented Dickey Fuller test\n",
    "    print('Results of Augmented Dickey-Fuller test:')\n",
    "    dftest = adfuller(y, autolag='AIC')\n",
    "    dfoutput = pd.Series(dftest[0:4], index=['test statistic', 'p-value', '# of lags', '# of observations'])\n",
    "    for key, value in dftest[4].items():\n",
    "        dfoutput['Critical Value ({})'.format(key)] = value\n",
    "    print(dfoutput)"
   ]
  },
  {
   "cell_type": "raw",
   "metadata": {},
   "source": [
    "Visualisation de la série temporelle (PACF, ACF, QQ plot, histogramme) et test de Dickey-Fuller. Fonction utile pour vérifier la stationnarité de la série après tranformation (diff, log)."
   ]
  },
  {
   "cell_type": "code",
   "execution_count": null,
   "metadata": {},
   "outputs": [],
   "source": [
    "def ts_diagnostics(y, lags=None, title='Taux de conversion'):\n",
    "    '''\n",
    "    Calculate acf, pacf, qq plot and Augmented Dickey Fuller test for a given time series\n",
    "    '''\n",
    "    if not isinstance(y, pd.Series):\n",
    "        y = pd.Series(y)\n",
    "        \n",
    "    # weekly moving averages (5 day window because of workdays)\n",
    "    rolling_mean = y.rolling(window=12).mean()\n",
    "    rolling_std = y.rolling(window=12).std()\n",
    "    \n",
    "    fig = plt.figure(figsize=(14, 12))\n",
    "    layout = (3, 2)\n",
    "    ts_ax = plt.subplot2grid(layout, (0, 0), colspan=2)\n",
    "    acf_ax = plt.subplot2grid(layout, (1, 0))\n",
    "    pacf_ax = plt.subplot2grid(layout, (1, 1))\n",
    "    qq_ax = plt.subplot2grid(layout, (2, 0))\n",
    "    hist_ax = plt.subplot2grid(layout, (2, 1))\n",
    "    \n",
    "    # time series plot\n",
    "    y.plot(ax=ts_ax)\n",
    "    rolling_mean.plot(ax=ts_ax, color='crimson');\n",
    "    rolling_std.plot(ax=ts_ax, color='darkslateblue');\n",
    "    plt.legend(loc='best')\n",
    "    ts_ax.set_title(title, fontsize=24);\n",
    "    \n",
    "    # acf and pacf\n",
    "    smt.graphics.plot_acf(y, lags=lags, ax=acf_ax, alpha=0.5)\n",
    "    smt.graphics.plot_pacf(y, lags=lags, ax=pacf_ax, alpha=0.5) \n",
    "    \n",
    "    # qq plot\n",
    "    sm.qqplot(y, line='s', ax=qq_ax)\n",
    "    qq_ax.set_title('QQ Plot')\n",
    "    \n",
    "    # hist plot\n",
    "    y.plot(ax=hist_ax, kind='hist', bins=25);\n",
    "    hist_ax.set_title('Histogram');\n",
    "    plt.tight_layout();\n",
    "    plt.show()\n",
    "    \n",
    "    # perform Augmented Dickey Fuller test\n",
    "    print('Results of Dickey-Fuller test:')\n",
    "    dftest = adfuller(y, autolag='AIC')\n",
    "    dfoutput = pd.Series(dftest[0:4], index=['test statistic', 'p-value', '# of lags', '# of observations'])\n",
    "    for key, value in dftest[4].items():\n",
    "        dfoutput['Critical Value (%s)'%key] = value\n",
    "    print(dfoutput)\n",
    "    return"
   ]
  },
  {
   "cell_type": "raw",
   "metadata": {},
   "source": [
    "source: Blog de datasciences Datacay"
   ]
  },
  {
   "cell_type": "code",
   "execution_count": null,
   "metadata": {},
   "outputs": [],
   "source": []
  },
  {
   "cell_type": "code",
   "execution_count": null,
   "metadata": {},
   "outputs": [],
   "source": []
  }
 ],
 "metadata": {
  "kernelspec": {
   "display_name": "Python 3",
   "language": "python",
   "name": "python3"
  }
 },
 "nbformat": 4,
 "nbformat_minor": 2
}
