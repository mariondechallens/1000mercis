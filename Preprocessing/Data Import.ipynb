{
 "cells": [
  {
   "cell_type": "code",
   "execution_count": null,
   "metadata": {},
   "outputs": [],
   "source": [
    "import pandas as pd\n",
    "import numpy as np\n",
    "import os"
   ]
  },
  {
   "cell_type": "markdown",
   "metadata": {},
   "source": [
    "Data is supposed to be in a directory `Data/` containing subdirectories `annonceur1/` and `annonceur2` that contain the corresponding files."
   ]
  },
  {
   "cell_type": "markdown",
   "metadata": {},
   "source": [
    "## 1. Reduce memory usage\n",
    "`reduce_mem_usage` function for reducing memory usage by downgrading data types:\n",
    "\n",
    "source : https://www.kaggle.com/arjanso/reducing-dataframe-memory-size-by-65"
   ]
  },
  {
   "cell_type": "code",
   "execution_count": null,
   "metadata": {},
   "outputs": [],
   "source": [
    "def reduce_mem_usage(props):\n",
    "    start_mem_usg = props.memory_usage().sum() / 1024**2 \n",
    "    print('\\n')\n",
    "    print(\"Memory usage of properties dataframe is :\",start_mem_usg,\" MB\")\n",
    "    NAlist = [] # Keeps track of columns that have missing values filled in. \n",
    "    for col in props.columns:\n",
    "        print('col', col)\n",
    "        if props[col].dtype != object:  # Exclude strings\n",
    "            \n",
    "            # Print current column type\n",
    "            print(\"******************************\")\n",
    "            print(\"Column: \",col)\n",
    "            print(\"dtype before: \",props[col].dtype)\n",
    "            \n",
    "            # make variables for Int, max and min\n",
    "            IsInt = False\n",
    "            mx = props[col].max()\n",
    "            mn = props[col].min()\n",
    "            \n",
    "            # Integer does not support NA, therefore, NA needs to be filled\n",
    "            if not np.isfinite(props[col]).all(): \n",
    "                NAlist.append(col)\n",
    "                props[col].fillna(mn-1,inplace=True)  \n",
    "                   \n",
    "            # test if column can be converted to an integer\n",
    "            asint = props[col].fillna(0).astype(np.int64)\n",
    "            result = (props[col] - asint)\n",
    "            result = result.sum()\n",
    "            if result > -0.01 and result < 0.01:\n",
    "                IsInt = True\n",
    "\n",
    "            \n",
    "            # Make Integer/unsigned Integer datatypes\n",
    "            if IsInt:\n",
    "                if mn >= 0:\n",
    "                    if mx < 255:\n",
    "                        props[col] = props[col].astype(np.uint8)\n",
    "                    elif mx < 65535:\n",
    "                        props[col] = props[col].astype(np.uint16)\n",
    "                    elif mx < 4294967295:\n",
    "                        props[col] = props[col].astype(np.uint32)\n",
    "                    else:\n",
    "                        props[col] = props[col].astype(np.uint64)\n",
    "                else:\n",
    "                    if mn > np.iinfo(np.int8).min and mx < np.iinfo(np.int8).max:\n",
    "                        props[col] = props[col].astype(np.int8)\n",
    "                    elif mn > np.iinfo(np.int16).min and mx < np.iinfo(np.int16).max:\n",
    "                        props[col] = props[col].astype(np.int16)\n",
    "                    elif mn > np.iinfo(np.int32).min and mx < np.iinfo(np.int32).max:\n",
    "                        props[col] = props[col].astype(np.int32)\n",
    "                    elif mn > np.iinfo(np.int64).min and mx < np.iinfo(np.int64).max:\n",
    "                        props[col] = props[col].astype(np.int64)    \n",
    "            \n",
    "            # Make float datatypes 32 bit\n",
    "            else:\n",
    "                props[col] = props[col].astype(np.float32)\n",
    "            \n",
    "            # Print new column type\n",
    "            print(\"dtype after: \",props[col].dtype)\n",
    "            print(\"******************************\")\n",
    "    \n",
    "    # Print final result\n",
    "    print(\"___MEMORY USAGE AFTER COMPLETION:___\")\n",
    "    mem_usg = props.memory_usage().sum() / 1024**2 \n",
    "    print(\"Memory usage is: \",mem_usg,\" MB\")\n",
    "    print(\"This is \",100*mem_usg/start_mem_usg,\"% of the initial size\")\n",
    "    return props, NAlist"
   ]
  },
  {
   "cell_type": "markdown",
   "metadata": {},
   "source": [
    "## 2. Generate HDF\n",
    "\n",
    "HDF format allows storing of mutliple pd.DataFrame objects into one file, each pd.DataFrame is identified by a unique key\n",
    "\n",
    "In the following example, data from annonceur{i} is gathered into `annonceur{i}.hdf`"
   ]
  },
  {
   "cell_type": "code",
   "execution_count": null,
   "metadata": {},
   "outputs": [],
   "source": [
    "for file in [\n",
    "    'annonceur1/annonceur1_campaign1_visite_2pages.csv',\n",
    "    'annonceur1/annonceur1_campaign1_visite_engagee.csv',\n",
    "    'annonceur1/annonceur1_campaign2_visite_2pages.csv',\n",
    "    'annonceur1/annonceur1_campaign2_visite_engagee.csv',\n",
    "    'annonceur1/annonceur1_campaign3_visite_2pages.csv',\n",
    "    'annonceur1/annonceur1_campaign3_visite_engagee.csv',\n",
    "    'annonceur1/annonceur1_campaign4_visite_2pages.csv',\n",
    "    'annonceur1/annonceur1_campaign4_visite_engagee.csv'\n",
    "]:\n",
    "    key = file.replace('annonceur1/', '').replace('.csv', '')\n",
    "    df = pd.read_csv(f'Data/{file}', usecols=[1, 2, 3, 4])\n",
    "#     reduce_mem_usage(df)\n",
    "#     df.to_hdf('Data/annonceur1/annonceur1.hdf', key=key, complevel=9)\n",
    "    # Also create daily hdf\n",
    "    df.loc[:, 'date'] = pd.to_datetime(\n",
    "        df['impression_date'].str.split(' ').str[0],\n",
    "        format='%Y-%m-%d'\n",
    "    )\n",
    "    daily = df.groupby(['date', 'group', 'view', 'is_conv']).size().rename('count')\n",
    "    daily.to_hdf('Data/annonceur1/annonceur1_daily.hdf', key=key)"
   ]
  },
  {
   "cell_type": "code",
   "execution_count": null,
   "metadata": {},
   "outputs": [],
   "source": [
    "for file in [\n",
    "    'annonceur2/annonceur2_campaign1_achat.csv',\n",
    "    'annonceur2/annonceur2_campaign1_visite_page_produit.csv',\n",
    "    'annonceur2/annonceur2_campaign1_visite_panier.csv'\n",
    "]:\n",
    "    key = file.replace('annonceur2/', '').replace('.csv', '')\n",
    "    df = pd.read_csv(f'Data/{file}', usecols=[1, 2, 3, 4])\n",
    "    reduce_mem_usage(df)\n",
    "    df.to_hdf('Data/annonceur2/annonceur2.hdf', key=key, complevel=9)\n",
    "    \n",
    "    # Also create daily hdf\n",
    "    df.loc[:, 'date'] = pd.to_datetime(\n",
    "        df['impression_date'].str.split(' ').str[0],\n",
    "        format='%Y-%m-%d'\n",
    "    )\n",
    "    daily = df.groupby(['date', 'group', 'view', 'is_conv']).size().rename('count')\n",
    "    daily.to_hdf('Data/annonceur2/annonceur2_daily.hdf', key=key)"
   ]
  },
  {
   "cell_type": "markdown",
   "metadata": {},
   "source": [
    "## 3. Example for loading one particular DataFrame :"
   ]
  },
  {
   "cell_type": "markdown",
   "metadata": {},
   "source": [
    "Load brut data :"
   ]
  },
  {
   "cell_type": "code",
   "execution_count": null,
   "metadata": {},
   "outputs": [],
   "source": [
    "df = pd.read_hdf('Data/annonceur2/annonceur2.hdf', key='annonceur2_campaign1_visite_panier')"
   ]
  },
  {
   "cell_type": "code",
   "execution_count": null,
   "metadata": {},
   "outputs": [],
   "source": [
    "df.info()"
   ]
  },
  {
   "cell_type": "markdown",
   "metadata": {},
   "source": [
    "Load only daily (aggregated) data :"
   ]
  },
  {
   "cell_type": "code",
   "execution_count": null,
   "metadata": {},
   "outputs": [],
   "source": [
    "key = 'annonceur1_campaign1_visite_2pages'\n",
    "key = 'annonceur1_campaign1_visite_engagee'\n",
    "key = 'annonceur1_campaign2_visite_2pages'\n",
    "# key = 'annonceur1_campaign2_visite_engagee'\n",
    "# key = 'annonceur1_campaign3_visite_2pages'\n",
    "# key = 'annonceur1_campaign3_visite_engagee'\n",
    "key = 'annonceur1_campaign4_visite_2pages'\n",
    "# key = 'annonceur1_campaign4_visite_engagee'\n",
    "\n",
    "\n",
    "daily = pd.read_hdf('Data/annonceur1/annonceur1_daily.hdf', key=key)"
   ]
  },
  {
   "cell_type": "code",
   "execution_count": null,
   "metadata": {},
   "outputs": [],
   "source": [
    "daily = pd.read_hdf('Data/annonceur2/annonceur2_daily.hdf', key='annonceur2_campaign1_visite_panier')"
   ]
  }
 ],
 "metadata": {
  "kernelspec": {
   "display_name": "Python 3",
   "language": "python",
   "name": "python3"
  },
  "language_info": {
   "codemirror_mode": {
    "name": "ipython",
    "version": 3
   },
   "file_extension": ".py",
   "mimetype": "text/x-python",
   "name": "python",
   "nbconvert_exporter": "python",
   "pygments_lexer": "ipython3",
   "version": "3.6.1"
  }
 },
 "nbformat": 4,
 "nbformat_minor": 2
}
